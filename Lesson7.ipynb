{
 "cells": [
  {
   "cell_type": "code",
   "execution_count": 1,
   "metadata": {},
   "outputs": [],
   "source": [
    "# ライブラリのインポート\n",
    "import pandas as pd\n",
    "from sklearn.ensemble import RandomForestClassifier\n",
    "from sklearn.feature_selection import chi2\n",
    "from sklearn.preprocessing import KBinsDiscretizer\n",
    "from scipy.stats import spearmanr\n",
    "import matplotlib.pyplot as plt\n",
    "import seaborn as sns"
   ]
  },
  {
   "cell_type": "code",
   "execution_count": 2,
   "metadata": {},
   "outputs": [
    {
     "name": "stdout",
     "output_type": "stream",
     "text": [
      "データの列名:\n",
      "Index(['ST', 'STATE', 'ST_ABBR', 'COUNTY', 'FIPS', 'LOCATION', 'AREA_SQMI',\n",
      "       'E_TOTPOP', 'M_TOTPOP', 'E_HU',\n",
      "       ...\n",
      "       'F_NOVEH', 'F_GROUPQ', 'F_THEME4', 'F_TOTAL', 'E_UNINSUR', 'M_UNINSUR',\n",
      "       'EP_UNINSUR', 'MP_UNINSUR', 'E_DAYPOP', 'Shape'],\n",
      "      dtype='object', length=124)\n",
      "\n",
      "'RPL_THEMES'の概要前処理前:\n",
      "count    72837.000000\n",
      "mean        -8.611694\n",
      "std         94.996397\n",
      "min       -999.000000\n",
      "25%          0.243100\n",
      "50%          0.495400\n",
      "75%          0.747700\n",
      "max          1.000000\n",
      "Name: RPL_THEMES, dtype: float64\n"
     ]
    }
   ],
   "source": [
    "\n",
    "# データの読み込み\n",
    "df = pd.read_csv(\"Social_Vulnerability_Index_2018_-_United_States__tract_20250119.csv\")\n",
    "\n",
    "# データの概要を確認\n",
    "print(\"データの列名:\")\n",
    "print(df.columns)\n",
    "\n",
    "print(\"\\n'RPL_THEMES'の概要前処理前:\")\n",
    "print(df[\"RPL_THEMES\"].describe())\n"
   ]
  },
  {
   "cell_type": "code",
   "execution_count": 3,
   "metadata": {},
   "outputs": [
    {
     "name": "stdout",
     "output_type": "stream",
     "text": [
      "\n",
      "'RPL_THEMES'の概要（フィルタ後）:\n",
      "count    72173.000000\n",
      "mean         0.499994\n",
      "std          0.288681\n",
      "min          0.000000\n",
      "25%          0.250000\n",
      "50%          0.500000\n",
      "75%          0.750000\n",
      "max          1.000000\n",
      "Name: RPL_THEMES, dtype: float64\n"
     ]
    }
   ],
   "source": [
    "# 'RPL_THEMES'が0から1の範囲内にあるデータを保持し、コピー\n",
    "df1 = df[df[\"RPL_THEMES\"].between(0, 1)].copy()\n",
    "\n",
    "print(\"\\n'RPL_THEMES'の概要（フィルタ後）:\")\n",
    "print(df1[\"RPL_THEMES\"].describe())"
   ]
  },
  {
   "cell_type": "code",
   "execution_count": 4,
   "metadata": {},
   "outputs": [
    {
     "name": "stdout",
     "output_type": "stream",
     "text": [
      "\n",
      "'RPL_THEMES_BIN'の分布:\n",
      "RPL_THEMES_BIN\n",
      "0    24060\n",
      "2    24057\n",
      "1    24056\n",
      "Name: count, dtype: int64\n"
     ]
    }
   ],
   "source": [
    "# 'RPL_THEMES' を3クラスに分割（低、中、高） using tertiles\n",
    "df1['RPL_THEMES_BIN'] = pd.qcut(df1['RPL_THEMES'], q=3, labels=[0, 1, 2])\n",
    "\n",
    "# 新しいクラスの分布を確認\n",
    "print(\"\\n'RPL_THEMES_BIN'の分布:\")\n",
    "print(df1['RPL_THEMES_BIN'].value_counts())\n"
   ]
  },
  {
   "cell_type": "code",
   "execution_count": 5,
   "metadata": {},
   "outputs": [
    {
     "name": "stdout",
     "output_type": "stream",
     "text": [
      "\n",
      "特徴量の先頭:\n",
      "     EP_POV  EP_UNEMP  EP_NOHSDP  EP_MINRTY  EP_AGE65\n",
      "24      8.5       8.9        2.0       20.3      11.2\n",
      "107     7.8       5.6       11.7       33.9      22.1\n",
      "198     8.0       2.6        8.7        1.7      21.0\n",
      "211    11.4       4.7        1.3        3.5      20.6\n",
      "233    17.9       2.1        8.8        4.2      29.7\n",
      "\n",
      "目的変数の先頭:\n",
      "24     1\n",
      "107    2\n",
      "198    1\n",
      "211    0\n",
      "233    1\n",
      "Name: RPL_THEMES_BIN, dtype: int64\n",
      "\n",
      "欠損値の数:\n",
      "EP_POV       0\n",
      "EP_UNEMP     0\n",
      "EP_NOHSDP    0\n",
      "EP_MINRTY    0\n",
      "EP_AGE65     0\n",
      "dtype: int64\n",
      "\n",
      "欠損値の数（補完後）:\n",
      "EP_POV       0\n",
      "EP_UNEMP     0\n",
      "EP_NOHSDP    0\n",
      "EP_MINRTY    0\n",
      "EP_AGE65     0\n",
      "dtype: int64\n"
     ]
    }
   ],
   "source": [
    "# 目的変数と説明変数の設定\n",
    "target_variable = 'RPL_THEMES_BIN'\n",
    "feature_variables = ['EP_POV', 'EP_UNEMP', 'EP_NOHSDP', 'EP_MINRTY', 'EP_AGE65']\n",
    "\n",
    "X = df1[feature_variables]\n",
    "y = df1[target_variable].astype(int)  # カテゴリ型から整数型に変換\n",
    "\n",
    "# データの先頭を確認\n",
    "print(\"\\n特徴量の先頭:\")\n",
    "print(X.head())\n",
    "\n",
    "print(\"\\n目的変数の先頭:\")\n",
    "print(y.head())\n",
    "\n",
    "# 欠損値の確認\n",
    "print(\"\\n欠損値の数:\")\n",
    "print(X.isnull().sum())\n",
    "\n",
    "# 欠損値を中央値で補完\n",
    "X = X.fillna(X.median())\n",
    "\n",
    "# 再度欠損値を確認\n",
    "print(\"\\n欠損値の数（補完後）:\")\n",
    "print(X.isnull().sum())"
   ]
  },
  {
   "cell_type": "code",
   "execution_count": 6,
   "metadata": {},
   "outputs": [
    {
     "name": "stdout",
     "output_type": "stream",
     "text": [
      "\n",
      "連続変数を3ビンに分割したデータの先頭:\n",
      "             EP_POV          EP_UNEMP         EP_NOHSDP         EP_MINRTY  \\\n",
      "0 1.000000000000000 2.000000000000000 0.000000000000000 1.000000000000000   \n",
      "1 0.000000000000000 1.000000000000000 1.000000000000000 1.000000000000000   \n",
      "2 0.000000000000000 0.000000000000000 1.000000000000000 0.000000000000000   \n",
      "3 1.000000000000000 1.000000000000000 0.000000000000000 0.000000000000000   \n",
      "4 2.000000000000000 0.000000000000000 1.000000000000000 0.000000000000000   \n",
      "\n",
      "           EP_AGE65  \n",
      "0 0.000000000000000  \n",
      "1 2.000000000000000  \n",
      "2 2.000000000000000  \n",
      "3 2.000000000000000  \n",
      "4 2.000000000000000  \n",
      "\n",
      "カイ二乗検定による特徴量重要度（トップ5）:\n",
      "     Feature        Chi2 Statistic           p-value\n",
      "2  EP_NOHSDP 26418.683296464521845 0.000000000000000\n",
      "0     EP_POV 26048.013400624549831 0.000000000000000\n",
      "3  EP_MINRTY 13713.022703648970491 0.000000000000000\n",
      "1   EP_UNEMP 13316.504565824296151 0.000000000000000\n",
      "4   EP_AGE65  2287.042858585005888 0.000000000000000\n",
      "\n",
      "スピアマン相関による特徴量重要度（トップ5）:\n",
      "     Feature  Spearman Correlation           p-value\n",
      "2  EP_NOHSDP     0.777560089369926 0.000000000000000\n",
      "0     EP_POV     0.769867580747304 0.000000000000000\n",
      "1   EP_UNEMP     0.561995184353346 0.000000000000000\n",
      "3  EP_MINRTY     0.546526127253726 0.000000000000000\n",
      "4   EP_AGE65    -0.201356601681077 0.000000000000000\n"
     ]
    }
   ],
   "source": [
    "import pandas as pd\n",
    "\n",
    "# 小数点第8位まで表示する設定\n",
    "pd.options.display.float_format = '{:0.15f}'.format\n",
    "\n",
    "# そのままコードを実行\n",
    "kbd = KBinsDiscretizer(n_bins=3, encode='ordinal', strategy='quantile')\n",
    "X_binned = kbd.fit_transform(X)\n",
    "X_binned = pd.DataFrame(X_binned, columns=feature_variables)\n",
    "\n",
    "print(\"\\n連続変数を3ビンに分割したデータの先頭:\")\n",
    "print(X_binned.head())\n",
    "\n",
    "# カイ二乗検定の実施\n",
    "chi2_stat, p_values = chi2(X_binned, y)\n",
    "\n",
    "# 統計量とp値をデータフレームにまとめる\n",
    "chi2_results = pd.DataFrame({\n",
    "    'Feature': feature_variables,\n",
    "    'Chi2 Statistic': chi2_stat,\n",
    "    'p-value': p_values\n",
    "})\n",
    "\n",
    "# 統計量でソートしてトップ5を取得\n",
    "chi2_top5 = chi2_results.sort_values(by='Chi2 Statistic', ascending=False).head(5)\n",
    "\n",
    "print(\"\\nカイ二乗検定による特徴量重要度（トップ5）:\")\n",
    "print(chi2_top5[['Feature', 'Chi2 Statistic', 'p-value']])\n",
    "\n",
    "# スピアマン相関の計算\n",
    "spearman_results = []\n",
    "for feature in feature_variables:\n",
    "    corr, p = spearmanr(X[feature], y)\n",
    "    spearman_results.append({\n",
    "        'Feature': feature,\n",
    "        'Spearman Correlation': corr,  # 符号付き\n",
    "        'p-value': round(p, 8)\n",
    "    })\n",
    "\n",
    "spearman_df = pd.DataFrame(spearman_results)\n",
    "\n",
    "# 絶対値でソートしてトップ5を取得\n",
    "spearman_top5 = spearman_df.reindex(\n",
    "    spearman_df['Spearman Correlation'].abs().sort_values(ascending=False).index\n",
    ").head(5)\n",
    "\n",
    "print(\"\\nスピアマン相関による特徴量重要度（トップ5）:\")\n",
    "print(spearman_top5[['Feature', 'Spearman Correlation', 'p-value']])\n",
    "\n"
   ]
  },
  {
   "cell_type": "code",
   "execution_count": 7,
   "metadata": {},
   "outputs": [
    {
     "name": "stdout",
     "output_type": "stream",
     "text": [
      "\n",
      "カイ2乗検定による特徴量重要度（トップ5）:\n",
      "     Feature        Chi2 Statistic           p-value\n",
      "2  EP_NOHSDP 26418.683296464521845 0.000000000000000\n",
      "0     EP_POV 26048.013400624549831 0.000000000000000\n",
      "3  EP_MINRTY 13713.022703648970491 0.000000000000000\n",
      "1   EP_UNEMP 13316.504565824296151 0.000000000000000\n",
      "4   EP_AGE65  2287.042858585005888 0.000000000000000\n"
     ]
    }
   ],
   "source": [
    "## カイ2乗検定による特徴量重要度の計算\n",
    "# カイ2乗検定の結果をデータフレームにまとめる\n",
    "chi2_results = pd.DataFrame({\n",
    "    'Feature': feature_variables,\n",
    "    'Chi2 Statistic': chi2_stat,\n",
    "    'p-value': p_values\n",
    "})\n",
    "\n",
    "# カイ2乗統計量でソートしてトップ5を取得\n",
    "chi2_top5 = chi2_results.sort_values(by='Chi2 Statistic', ascending=False).head(5)\n",
    "\n",
    "print(\"\\nカイ2乗検定による特徴量重要度（トップ5）:\")\n",
    "print(chi2_top5[['Feature', 'Chi2 Statistic', 'p-value']])"
   ]
  },
  {
   "cell_type": "code",
   "execution_count": 8,
   "metadata": {},
   "outputs": [
    {
     "name": "stdout",
     "output_type": "stream",
     "text": [
      "\n",
      "Kendall's Tauによる特徴量重要度（トップ5）:\n",
      "     Feature        Kendall Tau           p-value\n",
      "2  EP_NOHSDP  0.638781154620952 0.000000000000000\n",
      "0     EP_POV  0.632952621889376 0.000000000000000\n",
      "1   EP_UNEMP  0.446652595041508 0.000000000000000\n",
      "3  EP_MINRTY  0.426741083447876 0.000000000000000\n",
      "4   EP_AGE65 -0.155548319323142 0.000000000000000\n"
     ]
    }
   ],
   "source": [
    "### Kendalls Tauによる特徴量重要度の計算\n",
    "from scipy.stats import kendalltau\n",
    "\n",
    "kendall_results = []\n",
    "\n",
    "for feature in feature_variables:\n",
    "\n",
    "    corr, p = kendalltau(X[feature], y)\n",
    "    kendall_results.append({\n",
    "        'Feature': feature,\n",
    "        'Kendall Tau': corr,\n",
    "        'p-value': round(p, 8)\n",
    "    })\n",
    "\n",
    "kendall_df = pd.DataFrame(kendall_results)\n",
    "\n",
    "# 絶対値でソートしてトップ5を取得\n",
    "kendall_top5 = kendall_df.reindex(\n",
    "    kendall_df['Kendall Tau'].abs().sort_values(ascending=False).index\n",
    ").head(5)\n",
    "\n",
    "print(\"\\nKendall's Tauによる特徴量重要度（トップ5）:\")\n",
    "print(kendall_top5[['Feature', 'Kendall Tau', 'p-value']])\n"
   ]
  },
  {
   "cell_type": "code",
   "execution_count": 9,
   "metadata": {},
   "outputs": [
    {
     "name": "stdout",
     "output_type": "stream",
     "text": [
      "\n",
      "Spearman相関による特徴量重要度（トップ5）:\n",
      "     Feature  Spearman Correlation           p-value\n",
      "2  EP_NOHSDP     0.777560089369926 0.000000000000000\n",
      "0     EP_POV     0.769867580747304 0.000000000000000\n",
      "1   EP_UNEMP     0.561995184353346 0.000000000000000\n",
      "3  EP_MINRTY     0.546526127253726 0.000000000000000\n",
      "4   EP_AGE65    -0.201356601681077 0.000000000000000\n"
     ]
    }
   ],
   "source": [
    "### Spearmanによる特徴量重要度の計算\n",
    "from scipy.stats import spearmanr\n",
    "\n",
    "spearman_results = []\n",
    "\n",
    "for feature in feature_variables:\n",
    "    \n",
    "    corr, p = spearmanr(X[feature], y)\n",
    "    spearman_results.append({\n",
    "        'Feature': feature,\n",
    "        'Spearman Correlation': corr,  # 符号付き\n",
    "        'p-value': round(p, 8)\n",
    "    })\n",
    "\n",
    "spearman_df = pd.DataFrame(spearman_results)\n",
    "\n",
    "# 絶対値ではなく、符号付きでソートしてトップ5を取得\n",
    "spearman_top5 = spearman_df.reindex(\n",
    "    spearman_df['Spearman Correlation'].abs().sort_values(ascending=False).index\n",
    ").head(5)\n",
    "\n",
    "print(\"\\nSpearman相関による特徴量重要度（トップ5）:\")\n",
    "print(spearman_top5[['Feature', 'Spearman Correlation', 'p-value']])"
   ]
  },
  {
   "cell_type": "code",
   "execution_count": 10,
   "metadata": {},
   "outputs": [
    {
     "name": "stdout",
     "output_type": "stream",
     "text": [
      "\n",
      "Random Forest による特徴量重要度（トップ5）:\n",
      "EP_POV      0.298084056150380\n",
      "EP_NOHSDP   0.295770274360944\n",
      "EP_MINRTY   0.176786814801612\n",
      "EP_UNEMP    0.128568353794457\n",
      "EP_AGE65    0.100790500892607\n",
      "dtype: float64\n"
     ]
    }
   ],
   "source": [
    "# Random Forest モデルの構築\n",
    "rf = RandomForestClassifier(random_state=42)\n",
    "rf.fit(X, y)\n",
    "\n",
    "# 特徴量重要度の取得\n",
    "rf_importances = pd.Series(rf.feature_importances_, index=feature_variables)\n",
    "rf_top5 = rf_importances.sort_values(ascending=False).head(5)\n",
    "\n",
    "print(\"\\nRandom Forest による特徴量重要度（トップ5）:\")\n",
    "print(rf_top5)"
   ]
  },
  {
   "cell_type": "code",
   "execution_count": 11,
   "metadata": {},
   "outputs": [
    {
     "name": "stderr",
     "output_type": "stream",
     "text": [
      "/Users/hiro/.pyenv/versions/3.9.16/lib/python3.9/site-packages/xgboost/core.py:158: UserWarning: [16:18:51] WARNING: /Users/runner/work/xgboost/xgboost/src/learner.cc:740: \n",
      "Parameters: { \"use_label_encoder\" } are not used.\n",
      "\n",
      "  warnings.warn(smsg, UserWarning)\n"
     ]
    },
    {
     "name": "stdout",
     "output_type": "stream",
     "text": [
      "\n",
      "XGBoost による特徴量重要度（トップ5）:\n",
      "EP_POV      0.463402390480042\n",
      "EP_NOHSDP   0.352279692888260\n",
      "EP_MINRTY   0.090007804334164\n",
      "EP_UNEMP    0.059058733284473\n",
      "EP_AGE65    0.035251379013062\n",
      "dtype: float32\n"
     ]
    }
   ],
   "source": [
    "from xgboost import XGBClassifier\n",
    "\n",
    "# XGBoostモデルの構築と訓練\n",
    "xgb = XGBClassifier(random_state=42, use_label_encoder=False, eval_metric='mlogloss')\n",
    "xgb.fit(X, y)\n",
    "\n",
    "# 特徴量重要度の取得\n",
    "xgb_importances = pd.Series(xgb.feature_importances_, index=feature_variables)\n",
    "xgb_top5 = xgb_importances.sort_values(ascending=False).head(5)\n",
    "\n",
    "print(\"\\nXGBoost による特徴量重要度（トップ5）:\")\n",
    "print(xgb_top5)\n"
   ]
  },
  {
   "cell_type": "code",
   "execution_count": 12,
   "metadata": {},
   "outputs": [
    {
     "name": "stdout",
     "output_type": "stream",
     "text": [
      "\n",
      "SVM による特徴量重要度（トップ5）:\n",
      "EP_NOHSDP   2.156282178572837\n",
      "EP_POV      1.815390350046073\n",
      "EP_UNEMP    0.635577511950487\n",
      "EP_MINRTY   0.597645386647855\n",
      "EP_AGE65    0.180149807790713\n",
      "dtype: float64\n"
     ]
    }
   ],
   "source": [
    "# SVMのモデル構築\n",
    "from sklearn.svm import SVC\n",
    "from sklearn.preprocessing import StandardScaler\n",
    "from sklearn.pipeline import make_pipeline\n",
    "\n",
    "# パイプラインの作成\n",
    "svc = make_pipeline(StandardScaler(), SVC(kernel='linear', random_state=42))\n",
    "svc.fit(X, y)\n",
    "\n",
    "# 重みの取得\n",
    "svc_weights = pd.Series(svc.named_steps['svc'].coef_[0], index=feature_variables)\n",
    "svc_top5 = svc_weights.abs().sort_values(ascending=False).head(5)\n",
    "\n",
    "print(\"\\nSVM による特徴量重要度（トップ5）:\")\n",
    "print(svc_top5)"
   ]
  },
  {
   "cell_type": "code",
   "execution_count": 13,
   "metadata": {},
   "outputs": [
    {
     "name": "stdout",
     "output_type": "stream",
     "text": [
      "\n",
      "Lasso回帰による特徴量重要度（トップ5）:\n",
      "EP_NOHSDP   3.115316685555741\n",
      "EP_POV      2.406547358206407\n",
      "EP_UNEMP    0.919728992228641\n",
      "EP_MINRTY   0.867641134813762\n",
      "EP_AGE65    0.284622655895217\n",
      "dtype: float64\n"
     ]
    }
   ],
   "source": [
    "# Lasso回帰のモデル構築\n",
    "from sklearn.linear_model import LogisticRegression\n",
    "\n",
    "# パイプラインの作成\n",
    "lasso = make_pipeline(StandardScaler(), LogisticRegression(penalty='l1', solver='liblinear', random_state=42))\n",
    "lasso.fit(X, y)\n",
    "\n",
    "# 重みの取得\n",
    "lasso_weights = pd.Series(lasso.named_steps['logisticregression'].coef_[0], index=feature_variables)\n",
    "lasso_top5 = lasso_weights.abs().sort_values(ascending=False).head(5)\n",
    "\n",
    "print(\"\\nLasso回帰による特徴量重要度（トップ5）:\")\n",
    "print(lasso_top5)"
   ]
  },
  {
   "cell_type": "code",
   "execution_count": 14,
   "metadata": {},
   "outputs": [
    {
     "name": "stdout",
     "output_type": "stream",
     "text": [
      "\n",
      "Naive Bayes による特徴量重要度（トップ5）:\n",
      "EP_NOHSDP   0.753779592307598\n",
      "EP_POV      0.745852869003636\n",
      "EP_MINRTY   0.588756756022015\n",
      "EP_UNEMP    0.550160000837189\n",
      "EP_AGE65    0.173679567560513\n",
      "dtype: float64\n"
     ]
    }
   ],
   "source": [
    "# Naive Bayesのモデル構築\n",
    "from sklearn.naive_bayes import GaussianNB\n",
    "\n",
    "# パイプラインの作成\n",
    "nb = make_pipeline(StandardScaler(), GaussianNB())\n",
    "\n",
    "# モデルの訓練\n",
    "nb.fit(X, y)\n",
    "\n",
    "# 重みの取得\n",
    "nb_weights = pd.Series(nb.named_steps['gaussiannb'].theta_[0], index=feature_variables)\n",
    "nb_top5 = nb_weights.abs().sort_values(ascending=False).head(5)\n",
    "\n",
    "print(\"\\nNaive Bayes による特徴量重要度（トップ5）:\")\n",
    "print(nb_top5)"
   ]
  },
  {
   "cell_type": "code",
   "execution_count": 15,
   "metadata": {},
   "outputs": [
    {
     "name": "stdout",
     "output_type": "stream",
     "text": [
      "\n",
      "各手法による特徴量ランキング:\n",
      "   Rank Random Forest    XGBoost      Lasso        SVM Naive Bayes\n",
      "0     1        EP_POV     EP_POV  EP_NOHSDP  EP_NOHSDP   EP_NOHSDP\n",
      "1     2     EP_NOHSDP  EP_NOHSDP     EP_POV     EP_POV      EP_POV\n",
      "2     3     EP_MINRTY  EP_MINRTY   EP_UNEMP   EP_UNEMP   EP_MINRTY\n",
      "3     4      EP_UNEMP   EP_UNEMP  EP_MINRTY  EP_MINRTY    EP_UNEMP\n",
      "4     5      EP_AGE65   EP_AGE65   EP_AGE65   EP_AGE65    EP_AGE65\n"
     ]
    }
   ],
   "source": [
    "# 各手法のトップ5をランキング順に取得\n",
    "top_features_rf = rf_importances.sort_values(ascending=False).head(5).index.tolist()\n",
    "top_features_xgb = xgb_importances.sort_values(ascending=False).head(5).index.tolist()\n",
    "top_features_svc = svc_weights.abs().sort_values(ascending=False).head(5).index.tolist()\n",
    "top_features_lasso = lasso_weights.abs().sort_values(ascending=False).head(5).index.tolist()\n",
    "top_features_nb = nb_weights.abs().sort_values(ascending=False).head(5).index.tolist()\n",
    "\n",
    "# ランキング1から5までのリストを作成\n",
    "rank = list(range(1, 6))\n",
    "\n",
    "# 統合データフレームの作成\n",
    "df_rank = pd.DataFrame({\n",
    "    'Rank': rank,\n",
    "    'Random Forest': top_features_rf,\n",
    "    'XGBoost': top_features_xgb,\n",
    "    'Lasso': top_features_lasso,\n",
    "    'SVM': top_features_svc,\n",
    "    'Naive Bayes': top_features_nb\n",
    "})\n",
    "\n",
    "print(\"\\n各手法による特徴量ランキング:\")\n",
    "print(df_rank)"
   ]
  },
  {
   "cell_type": "code",
   "execution_count": 16,
   "metadata": {},
   "outputs": [
    {
     "name": "stdout",
     "output_type": "stream",
     "text": [
      "\n",
      "各手法のトップ5特徴量を統合した結果:\n",
      "     Random Forest Importance Chi-Squared Statistic Spearman Correlation\n",
      "Rank                                                                    \n",
      "1                      EP_POV             EP_NOHSDP            EP_NOHSDP\n",
      "2                   EP_NOHSDP                EP_POV               EP_POV\n",
      "3                   EP_MINRTY             EP_MINRTY             EP_UNEMP\n",
      "4                    EP_UNEMP              EP_UNEMP            EP_MINRTY\n",
      "5                    EP_AGE65              EP_AGE65             EP_AGE65\n"
     ]
    }
   ],
   "source": [
    "# 各手法のトップ5をランキング順に取得\n",
    "top_features_rf = rf_importances.sort_values(ascending=False).head(5).index.tolist()\n",
    "top_features_chi2 = chi2_top5['Feature'].tolist()\n",
    "top_features_spearman = spearman_top5['Feature'].tolist()\n",
    "\n",
    "# ランキング1から5までのリストを作成\n",
    "rank = [1, 2, 3, 4, 5]\n",
    "\n",
    "# 各ランキングに対応する特徴量を取得\n",
    "features_rf_ranked = rf_importances.sort_values(ascending=False).head(5).index.tolist()\n",
    "features_chi2_ranked = chi2_top5['Feature'].tolist()\n",
    "features_spearman_ranked = spearman_top5['Feature'].tolist()\n",
    "\n",
    "# 統合データフレームの作成\n",
    "rank_table = pd.DataFrame({\n",
    "    'Rank': rank,\n",
    "    'Random Forest Importance': features_rf_ranked,\n",
    "    'Chi-Squared Statistic': features_chi2_ranked,\n",
    "    'Spearman Correlation': features_spearman_ranked\n",
    "})\n",
    "\n",
    "# インデックスをRankに設定\n",
    "rank_table = rank_table.set_index('Rank')\n",
    "\n",
    "print(\"\\n各手法のトップ5特徴量を統合した結果:\")\n",
    "print(rank_table)"
   ]
  },
  {
   "cell_type": "markdown",
   "metadata": {},
   "source": [
    "項目\n",
    "* EP_POV → 貧困率\n",
    "* EP_NOHSDP → 高卒未満の割合\n",
    "* EP_UNEMP → 失業率\n",
    "* EP_MINRTY → 少数民族(白人、非ヒスパニック系を除くすべての人)\n",
    "* EP_AGE65 → 65歳以上の割合\n",
    "\n",
    "* RPL_THEMES → その地域の脆弱性を%で表す"
   ]
  },
  {
   "cell_type": "code",
   "execution_count": 17,
   "metadata": {},
   "outputs": [
    {
     "ename": "ModuleNotFoundError",
     "evalue": "No module named 'statsmodels'",
     "output_type": "error",
     "traceback": [
      "\u001b[0;31m---------------------------------------------------------------------------\u001b[0m",
      "\u001b[0;31mModuleNotFoundError\u001b[0m                       Traceback (most recent call last)",
      "Cell \u001b[0;32mIn[17], line 2\u001b[0m\n\u001b[1;32m      1\u001b[0m \u001b[38;5;66;03m# VIFの計算\u001b[39;00m\n\u001b[0;32m----> 2\u001b[0m \u001b[38;5;28;01mfrom\u001b[39;00m \u001b[38;5;21;01mstatsmodels\u001b[39;00m\u001b[38;5;21;01m.\u001b[39;00m\u001b[38;5;21;01mstats\u001b[39;00m\u001b[38;5;21;01m.\u001b[39;00m\u001b[38;5;21;01moutliers_influence\u001b[39;00m \u001b[38;5;28;01mimport\u001b[39;00m variance_inflation_factor\n\u001b[1;32m      4\u001b[0m \u001b[38;5;66;03m# VIFの計算\u001b[39;00m\n\u001b[1;32m      5\u001b[0m vif_data \u001b[38;5;241m=\u001b[39m pd\u001b[38;5;241m.\u001b[39mDataFrame()\n",
      "\u001b[0;31mModuleNotFoundError\u001b[0m: No module named 'statsmodels'"
     ]
    }
   ],
   "source": [
    "# VIFの計算\n",
    "from statsmodels.stats.outliers_influence import variance_inflation_factor\n",
    "\n",
    "# VIFの計算\n",
    "vif_data = pd.DataFrame()\n",
    "\n",
    "vif_data[\"feature\"] = X.columns\n",
    "\n",
    "vif_data[\"VIF\"] = [variance_inflation_factor(X.values, i) for i in range(X.shape[1])]\n",
    "\n",
    "# 値が大きい順にソート\n",
    "vif_data = vif_data.sort_values(by='VIF', ascending=False)\n",
    "\n",
    "print(\"\\n各特徴量のVIF:\")\n",
    "print(vif_data)"
   ]
  },
  {
   "cell_type": "code",
   "execution_count": 18,
   "metadata": {},
   "outputs": [
    {
     "name": "stdout",
     "output_type": "stream",
     "text": [
      "\n",
      "VIFが5以上の特徴量:\n",
      "  feature               VIF\n",
      "0  EP_POV 5.228016450530072\n"
     ]
    }
   ],
   "source": [
    "# VIFが5以上の特徴量を取得\n",
    "high_vif = vif_data[vif_data['VIF'] > 5]\n",
    "\n",
    "print(\"\\nVIFが5以上の特徴量:\")\n",
    "print(high_vif)"
   ]
  },
  {
   "cell_type": "code",
   "execution_count": null,
   "metadata": {},
   "outputs": [
    {
     "name": "stdout",
     "output_type": "stream",
     "text": [
      "\n",
      "VIFが5以上の特徴量を削除した後のVIF:\n",
      "     feature               VIF\n",
      "2  EP_MINRTY 4.108205021354038\n",
      "1  EP_NOHSDP 3.963932730089684\n",
      "0   EP_UNEMP 3.594264599417060\n",
      "3   EP_AGE65 1.999427610181481\n"
     ]
    }
   ],
   "source": [
    "# VIFが5以上の特徴量を削除\n",
    "X_vif = X.drop(columns=high_vif['feature']) # 高いVIFを持つ特徴量を削除# VIFが5以上の特徴量を削除\n",
    "\n",
    "# 再びVIFを計算\n",
    "vif_data = pd.DataFrame()\n",
    "\n",
    "vif_data[\"feature\"] = X_vif.columns\n",
    "\n",
    "vif_data[\"VIF\"] = [variance_inflation_factor(X_vif.values, i) for i in range(X_vif.shape[1])]\n",
    "\n",
    "# 値が大きい順にソート\n",
    "vif_data = vif_data.sort_values(by='VIF', ascending=False)\n",
    "\n",
    "print(\"\\nVIFが5以上の特徴量を削除した後のVIF:\")\n",
    "print(vif_data)\n"
   ]
  },
  {
   "cell_type": "code",
   "execution_count": 20,
   "metadata": {},
   "outputs": [
    {
     "name": "stdout",
     "output_type": "stream",
     "text": [
      "\n",
      "VIFが5以上の特徴量を削除した後のRandom Forest による特徴量重要度（トップ5）:\n",
      "EP_NOHSDP   0.412511928048861\n",
      "EP_MINRTY   0.243612819786965\n",
      "EP_UNEMP    0.188574757953345\n",
      "EP_AGE65    0.155300494210829\n",
      "dtype: float64\n"
     ]
    }
   ],
   "source": [
    "# モデルの構築\n",
    "rf_vif = RandomForestClassifier(random_state=42)\n",
    "rf_vif.fit(X_vif, y)\n",
    "\n",
    "# 特徴量重要度の取得\n",
    "rf_importances_vif = pd.Series(rf_vif.feature_importances_, index=X_vif.columns)\n",
    "rf_top5_vif = rf_importances_vif.sort_values(ascending=False).head(5)\n",
    "\n",
    "print(\"\\nVIFが5以上の特徴量を削除した後のRandom Forest による特徴量重要度（トップ5）:\")\n",
    "print(rf_top5_vif)"
   ]
  },
  {
   "cell_type": "code",
   "execution_count": 21,
   "metadata": {},
   "outputs": [
    {
     "name": "stderr",
     "output_type": "stream",
     "text": [
      "/Users/hiro/assignment/AIと情報倫理/.venv/lib/python3.9/site-packages/xgboost/core.py:158: UserWarning: [18:07:40] WARNING: /Users/runner/work/xgboost/xgboost/src/learner.cc:740: \n",
      "Parameters: { \"use_label_encoder\" } are not used.\n",
      "\n",
      "  warnings.warn(smsg, UserWarning)\n"
     ]
    },
    {
     "name": "stdout",
     "output_type": "stream",
     "text": [
      "\n",
      "VIFが5以上の特徴量を削除した後のXGBoost による特徴量重要度（トップ5）:\n",
      "EP_NOHSDP   0.707502365112305\n",
      "EP_UNEMP    0.144518136978149\n",
      "EP_MINRTY   0.107117392122746\n",
      "EP_AGE65    0.040862128138542\n",
      "dtype: float32\n"
     ]
    }
   ],
   "source": [
    "# モデルの構築\n",
    "xgb_vif = XGBClassifier(random_state=42, use_label_encoder=False, eval_metric='mlogloss')\n",
    "xgb_vif.fit(X_vif, y)\n",
    "\n",
    "# 特徴量重要度の取得\n",
    "xgb_importances_vif = pd.Series(xgb_vif.feature_importances_, index=X_vif.columns)\n",
    "xgb_top5_vif = xgb_importances_vif.sort_values(ascending=False).head(5)\n",
    "\n",
    "print(\"\\nVIFが5以上の特徴量を削除した後のXGBoost による特徴量重要度（トップ5）:\")\n",
    "print(xgb_top5_vif)"
   ]
  },
  {
   "cell_type": "code",
   "execution_count": 22,
   "metadata": {},
   "outputs": [
    {
     "name": "stdout",
     "output_type": "stream",
     "text": [
      "\n",
      "VIFが5以上の特徴量を削除した後のSVM による特徴量重要度（トップ5）:\n",
      "EP_NOHSDP   2.768824365955879\n",
      "EP_UNEMP    0.882009940352873\n",
      "EP_MINRTY   0.529801488222802\n",
      "EP_AGE65    0.095208849125356\n",
      "dtype: float64\n"
     ]
    }
   ],
   "source": [
    "# モデルの構築\n",
    "svc_vif = make_pipeline(StandardScaler(), SVC(kernel='linear', random_state=42))\n",
    "svc_vif.fit(X_vif, y)\n",
    "\n",
    "# 重みの取得\n",
    "svc_weights_vif = pd.Series(svc_vif.named_steps['svc'].coef_[0], index=X_vif.columns)\n",
    "\n",
    "# 絶対値でソートしてトップ5を取得\n",
    "svc_top5_vif = svc_weights_vif.abs().sort_values(ascending=False).head(5)\n",
    "\n",
    "print(\"\\nVIFが5以上の特徴量を削除した後のSVM による特徴量重要度（トップ5）:\")\n",
    "print(svc_top5_vif)"
   ]
  },
  {
   "cell_type": "code",
   "execution_count": 23,
   "metadata": {},
   "outputs": [
    {
     "name": "stdout",
     "output_type": "stream",
     "text": [
      "\n",
      "VIFが5以上の特徴量を削除した後のLasso回帰による特徴量重要度（トップ5）:\n",
      "EP_NOHSDP   3.748982208378125\n",
      "EP_UNEMP    1.244802395053994\n",
      "EP_MINRTY   0.758054398955902\n",
      "EP_AGE65    0.140627784290266\n",
      "dtype: float64\n"
     ]
    }
   ],
   "source": [
    "# Lasso回帰のモデル構築\n",
    "\n",
    "# パイプラインの作成\n",
    "\n",
    "lasso_vif = make_pipeline(StandardScaler(), LogisticRegression(penalty='l1', solver='liblinear', random_state=42))\n",
    "lasso_vif.fit(X_vif, y)\n",
    "\n",
    "# 重みの取得\n",
    "lasso_weights_vif = pd.Series(lasso_vif.named_steps['logisticregression'].coef_[0], index=X_vif.columns)\n",
    "lasso_top5_vif = lasso_weights_vif.abs().sort_values(ascending=False).head(5)\n",
    "\n",
    "print(\"\\nVIFが5以上の特徴量を削除した後のLasso回帰による特徴量重要度（トップ5）:\")\n",
    "print(lasso_top5_vif)"
   ]
  },
  {
   "cell_type": "code",
   "execution_count": 24,
   "metadata": {},
   "outputs": [
    {
     "name": "stdout",
     "output_type": "stream",
     "text": [
      "\n",
      "VIFが5以上の特徴量を削除した後のNaive Bayes による特徴量重要度（トップ5）:\n",
      "EP_NOHSDP   0.753779592307598\n",
      "EP_MINRTY   0.588756756022015\n",
      "EP_UNEMP    0.550160000837189\n",
      "EP_AGE65    0.173679567560513\n",
      "dtype: float64\n"
     ]
    }
   ],
   "source": [
    "# Naive Bayesのモデル構築\n",
    "\n",
    "# パイプラインの作成\n",
    "nb_vif = make_pipeline(StandardScaler(), GaussianNB())\n",
    "\n",
    "# モデルの訓練\n",
    "nb_vif.fit(X_vif, y)\n",
    "\n",
    "# 重みの取得\n",
    "nb_weights_vif = pd.Series(nb_vif.named_steps['gaussiannb'].theta_[0], index=X_vif.columns)\n",
    "nb_top5_vif = nb_weights_vif.abs().sort_values(ascending=False).head(5)\n",
    "\n",
    "print(\"\\nVIFが5以上の特徴量を削除した後のNaive Bayes による特徴量重要度（トップ5）:\")\n",
    "print(nb_top5_vif)"
   ]
  },
  {
   "cell_type": "markdown",
   "metadata": {},
   "source": [
    "### VIF適用後についても、再度統計検定を実施"
   ]
  },
  {
   "cell_type": "code",
   "execution_count": 37,
   "metadata": {},
   "outputs": [
    {
     "name": "stdout",
     "output_type": "stream",
     "text": [
      "\n",
      "各特徴量のVIF:\n",
      "     feature               VIF\n",
      "0     EP_POV 5.228016450530072\n",
      "2  EP_NOHSDP 4.820433153187039\n",
      "1   EP_UNEMP 4.684057948573658\n",
      "3  EP_MINRTY 4.147573785691376\n",
      "4   EP_AGE65 2.000666076135550\n"
     ]
    }
   ],
   "source": [
    "# VIFの計算\n",
    "from statsmodels.stats.outliers_influence import variance_inflation_factor\n",
    "\n",
    "# VIFの計算\n",
    "vif_data = pd.DataFrame()\n",
    "\n",
    "vif_data[\"feature\"] = X.columns\n",
    "\n",
    "vif_data[\"VIF\"] = [variance_inflation_factor(X.values, i) for i in range(X.shape[1])]\n",
    "\n",
    "# 値が大きい順にソート\n",
    "vif_data = vif_data.sort_values(by='VIF', ascending=False)\n",
    "\n",
    "print(\"\\n各特徴量のVIF:\")\n",
    "print(vif_data)"
   ]
  },
  {
   "cell_type": "code",
   "execution_count": 38,
   "metadata": {},
   "outputs": [
    {
     "name": "stdout",
     "output_type": "stream",
     "text": [
      "\n",
      "VIFが5以上の特徴量:\n",
      "  feature               VIF\n",
      "0  EP_POV 5.228016450530072\n"
     ]
    }
   ],
   "source": [
    "# VIFが5以上の特徴量を取得\n",
    "high_vif = vif_data[vif_data['VIF'] > 5]\n",
    "\n",
    "print(\"\\nVIFが5以上の特徴量:\")\n",
    "print(high_vif)"
   ]
  },
  {
   "cell_type": "code",
   "execution_count": 39,
   "metadata": {},
   "outputs": [
    {
     "name": "stdout",
     "output_type": "stream",
     "text": [
      "\n",
      "VIFが5以上の特徴量を削除した後のVIF:\n",
      "     feature               VIF\n",
      "2  EP_MINRTY 4.108205021354038\n",
      "1  EP_NOHSDP 3.963932730089684\n",
      "0   EP_UNEMP 3.594264599417060\n",
      "3   EP_AGE65 1.999427610181481\n"
     ]
    }
   ],
   "source": [
    "# VIFが5以上の特徴量を削除\n",
    "X_vif = X.drop(columns=high_vif['feature']) # 高いVIFを持つ特徴量を削除# VIFが5以上の特徴量を削除\n",
    "\n",
    "# 再びVIFを計算\n",
    "vif_data = pd.DataFrame()\n",
    "\n",
    "vif_data[\"feature\"] = X_vif.columns\n",
    "\n",
    "vif_data[\"VIF\"] = [variance_inflation_factor(X_vif.values, i) for i in range(X_vif.shape[1])]\n",
    "\n",
    "# 値が大きい順にソート\n",
    "vif_data = vif_data.sort_values(by='VIF', ascending=False)\n",
    "\n",
    "print(\"\\nVIFが5以上の特徴量を削除した後のVIF:\")\n",
    "print(vif_data)"
   ]
  },
  {
   "cell_type": "code",
   "execution_count": 52,
   "metadata": {},
   "outputs": [
    {
     "name": "stdout",
     "output_type": "stream",
     "text": [
      "\n",
      "VIF適用後のカイ二乗検定による特徴量重要度（トップ5）:\n",
      "     Feature         Chi2 Statistic           p-value\n",
      "2  EP_MINRTY 589621.952119288151152 0.000000000000000\n",
      "1  EP_NOHSDP 302004.375359652389307 0.000000000000000\n",
      "0   EP_UNEMP  63977.728445634696982 0.000000000000000\n",
      "3   EP_AGE65  12173.965229997371353 0.000000000000000\n"
     ]
    }
   ],
   "source": [
    "## VIF適用後、カイ2乗検定による特徴量重要度の計算\n",
    "# カイ2乗検定の実施\n",
    "\n",
    "chi2_stat_vif, p_values_vif = chi2(X_vif, y)\n",
    "\n",
    "# 統計量とp値をデータフレームにまとめる\n",
    "chi2_results_vif = pd.DataFrame({\n",
    "    'Feature': X_vif.columns,\n",
    "    'Chi2 Statistic': chi2_stat_vif,\n",
    "    'p-value': p_values_vif\n",
    "})\n",
    "\n",
    "# 統計量でソートしてトップ5を取得\n",
    "\n",
    "chi2_top5_vif = chi2_results_vif.sort_values(by='Chi2 Statistic', ascending=False).head(5)\n",
    "\n",
    "print(\"\\nVIF適用後のカイ二乗検定による特徴量重要度（トップ5）:\")\n",
    "print(chi2_top5_vif[['Feature', 'Chi2 Statistic', 'p-value']])"
   ]
  },
  {
   "cell_type": "code",
   "execution_count": 53,
   "metadata": {},
   "outputs": [
    {
     "name": "stdout",
     "output_type": "stream",
     "text": [
      "\n",
      "VIF適用後のスピアマン相関による特徴量重要度（トップ5）:\n",
      "     Feature  Spearman Correlation           p-value\n",
      "1  EP_NOHSDP     0.777560089369926 0.000000000000000\n",
      "0   EP_UNEMP     0.561995184353346 0.000000000000000\n",
      "2  EP_MINRTY     0.546526127253726 0.000000000000000\n",
      "3   EP_AGE65    -0.201356601681077 0.000000000000000\n"
     ]
    }
   ],
   "source": [
    "## VIF適用後、スピアマン相関による特徴量重要度の計算\n",
    "# スピアマン相関の計算\n",
    "\n",
    "spearman_results_vif = []\n",
    "\n",
    "for feature in X_vif.columns:\n",
    "    \n",
    "    corr, p = spearmanr(X_vif[feature], y)\n",
    "    spearman_results_vif.append({\n",
    "        'Feature': feature,\n",
    "        'Spearman Correlation': corr,  # 符号付き\n",
    "        'p-value': round(p, 8)\n",
    "    })\n",
    "\n",
    "spearman_df_vif = pd.DataFrame(spearman_results_vif)\n",
    "\n",
    "# 絶対値でソートしてトップ5を取得\n",
    "spearman_top5_vif = spearman_df_vif.reindex(\n",
    "    spearman_df_vif['Spearman Correlation'].abs().sort_values(ascending=False).index\n",
    ").head(5)\n",
    "\n",
    "print(\"\\nVIF適用後のスピアマン相関による特徴量重要度（トップ5）:\")\n",
    "print(spearman_top5_vif[['Feature', 'Spearman Correlation', 'p-value']])"
   ]
  },
  {
   "cell_type": "code",
   "execution_count": 54,
   "metadata": {},
   "outputs": [
    {
     "name": "stdout",
     "output_type": "stream",
     "text": [
      "\n",
      "VIF適用後のKendall's Tauによる特徴量重要度（トップ5）:\n",
      "     Feature        Kendall Tau           p-value\n",
      "1  EP_NOHSDP  0.638781154620952 0.000000000000000\n",
      "0   EP_UNEMP  0.446652595041508 0.000000000000000\n",
      "2  EP_MINRTY  0.426741083447876 0.000000000000000\n",
      "3   EP_AGE65 -0.155548319323142 0.000000000000000\n"
     ]
    }
   ],
   "source": [
    "## VIF適用後、Kenalls Tauによる特徴量重要度の計算\n",
    "# Kenalls Tauの計算\n",
    "\n",
    "kendall_results_vif = []\n",
    "\n",
    "for feature in X_vif.columns:\n",
    "    \n",
    "    corr, p = kendalltau(X_vif[feature], y)\n",
    "    kendall_results_vif.append({\n",
    "        'Feature': feature,\n",
    "        'Kendall Tau': corr,\n",
    "        'p-value': round(p, 8)\n",
    "    })\n",
    "\n",
    "kendall_df_vif = pd.DataFrame(kendall_results_vif)\n",
    "\n",
    "# 絶対値でソートしてトップ5を取得\n",
    "kendall_top5_vif = kendall_df_vif.reindex(\n",
    "    kendall_df_vif['Kendall Tau'].abs().sort_values(ascending=False).index\n",
    ").head(5)\n",
    "\n",
    "print(\"\\nVIF適用後のKendall's Tauによる特徴量重要度（トップ5）:\")\n",
    "print(kendall_top5_vif[['Feature', 'Kendall Tau', 'p-value']])\n"
   ]
  }
 ],
 "metadata": {
  "kernelspec": {
   "display_name": "Python 3",
   "language": "python",
   "name": "python3"
  },
  "language_info": {
   "codemirror_mode": {
    "name": "ipython",
    "version": 3
   },
   "file_extension": ".py",
   "mimetype": "text/x-python",
   "name": "python",
   "nbconvert_exporter": "python",
   "pygments_lexer": "ipython3",
   "version": "3.9.16"
  }
 },
 "nbformat": 4,
 "nbformat_minor": 2
}
